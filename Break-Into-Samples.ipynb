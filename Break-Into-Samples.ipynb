{
 "cells": [
  {
   "cell_type": "code",
   "execution_count": 1,
   "metadata": {},
   "outputs": [],
   "source": [
    "import thinkdsp\n",
    "wave = thinkdsp.read_wave('92002__jcveliz__violin-origional.wav')\n",
    "start = 0.0\n",
    "while start < wave.duration:\n",
    "    segment = wave.segment(start, 0.1)\n",
    "    if segment.duration > 0:\n",
    "        spectrum = segment.make_spectrum()\n",
    "        fs, amps = spectrum.render_full()\n",
    "    start += 0.1"
   ]
  },
  {
   "cell_type": "code",
   "execution_count": null,
   "metadata": {},
   "outputs": [],
   "source": []
  }
 ],
 "metadata": {
  "kernelspec": {
   "display_name": "Python 3",
   "language": "python",
   "name": "python3"
  },
  "language_info": {
   "codemirror_mode": {
    "name": "ipython",
    "version": 3
   },
   "file_extension": ".py",
   "mimetype": "text/x-python",
   "name": "python",
   "nbconvert_exporter": "python",
   "pygments_lexer": "ipython3",
   "version": "3.6.5"
  }
 },
 "nbformat": 4,
 "nbformat_minor": 2
}
