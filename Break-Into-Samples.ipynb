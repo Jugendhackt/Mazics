{
 "cells": [
  {
   "cell_type": "code",
   "execution_count": 3,
   "metadata": {},
   "outputs": [],
   "source": [
    "import thinkdsp\n",
    "def Import(Name):\n",
    "    wave = thinkdsp.read_wave(Name)\n",
    "    start = 0.0\n",
    "    Cash = []\n",
    "    while start < wave.duration:\n",
    "        segment = wave.segment(start, 0.1)\n",
    "        if segment.duration > 0:\n",
    "            spectrum = segment.make_spectrum()\n",
    "            Cash.append(spectrum)\n",
    "        start += 0.1\n",
    "    return Cash"
   ]
  },
  {
   "cell_type": "code",
   "execution_count": 6,
   "metadata": {},
   "outputs": [],
   "source": [
    "#spectrum = segment.make_spectrum()\n",
    "#print(dir(spectrum))\n",
    "#fs,amps = spectrum.render_full()\n",
    "\n",
    "import pygame\n",
    "pygame.init()\n",
    "def NextData(Cash):\n",
    "    try :\n",
    "        Ret = Cash[0]\n",
    "        Cash = Cash[1:]\n",
    "    except :\n",
    "        Ret = None\n",
    "    return Ret,Cash\n",
    "def Update(screen,spectrum):\n",
    "    Bars = []\n",
    "    D = 2\n",
    "    S = 2\n",
    "    fs,amps = spectrum.render_full()\n",
    "    ID = -1\n",
    "    for PosX in fs :\n",
    "        ID += 1\n",
    "        if (PosX*D) < screen.get_width():\n",
    "            Bars.append([PosX*D,0,5,(amps[ID]+1)*100])\n",
    "    Render(screen,Bars)\n",
    "def Render(screen,Bars):\n",
    "    for Bar in Bars :\n",
    "        pygame.draw.rect(screen,[0,0,0],Bar)\n",
    "screen = pygame.display.set_mode([800,800])\n",
    "Aktiv = True\n",
    "uhr = pygame.time.Clock()\n",
    "#All Specten\n",
    "Music_Name = '92002__jcveliz__violin-origional.wav'\n",
    "Cash = Import(Music_Name)\n",
    "CashCopy = Cash[:]\n",
    "#Pygame Music\n",
    "pygame.mixer.music.load(Music_Name)\n",
    "pygame.mixer.music.set_volume(0.2)\n",
    "pygame.mixer.music.play(-1)\n",
    "while Aktiv :\n",
    "    uhr.tick(10)S\n",
    "    screen.fill([255,255,255])\n",
    "    spectrum,Cash = NextData(Cash)\n",
    "    if spectrum != None:\n",
    "        Update(screen,spectrum)\n",
    "    else :\n",
    "        Cash = CashCopy\n",
    "    pygame.display.flip()\n",
    "    for event in pygame.event.get():\n",
    "        if event.type == pygame.QUIT :\n",
    "            Aktiv = False\n",
    "        elif event.type == pygame.KEYDOWN :\n",
    "            Aktiv = False\n",
    "pygame.quit()"
   ]
  },
  {
   "cell_type": "code",
   "execution_count": null,
   "metadata": {},
   "outputs": [],
   "source": []
  },
  {
   "cell_type": "code",
   "execution_count": null,
   "metadata": {},
   "outputs": [],
   "source": []
  }
 ],
 "metadata": {
  "kernelspec": {
   "display_name": "Python 3",
   "language": "python",
   "name": "python3"
  },
  "language_info": {
   "codemirror_mode": {
    "name": "ipython",
    "version": 3
   },
   "file_extension": ".py",
   "mimetype": "text/x-python",
   "name": "python",
   "nbconvert_exporter": "python",
   "pygments_lexer": "ipython3",
   "version": "3.6.0"
  }
 },
 "nbformat": 4,
 "nbformat_minor": 2
}
